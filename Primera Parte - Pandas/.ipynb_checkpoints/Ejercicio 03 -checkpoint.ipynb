{
 "cells": [
  {
   "cell_type": "markdown",
   "metadata": {
    "id": "qmHqJJfM296c"
   },
   "source": [
    "# Ejercicio 3\n",
    "Cual es el porcentaje de títulos de contenidos de wikipedia cuya longitud es menor a 20."
   ]
  },
  {
   "cell_type": "code",
   "execution_count": 1,
   "metadata": {
    "executionInfo": {
     "elapsed": 383,
     "status": "ok",
     "timestamp": 1632261591943,
     "user": {
      "displayName": "Ángel Martín Veiga",
      "photoUrl": "https://lh3.googleusercontent.com/a-/AOh14GhuIO_HePT528k3iUgj6zbDTh-BGNnAqJlehJWi=s64",
      "userId": "02801971987668662503"
     },
     "user_tz": 180
    },
    "id": "oeaTJtCn2cMK"
   },
   "outputs": [],
   "source": [
    "import pandas as pd"
   ]
  },
  {
   "cell_type": "code",
   "execution_count": 2,
   "metadata": {
    "executionInfo": {
     "elapsed": 15351,
     "status": "ok",
     "timestamp": 1632261607528,
     "user": {
      "displayName": "Ángel Martín Veiga",
      "photoUrl": "https://lh3.googleusercontent.com/a-/AOh14GhuIO_HePT528k3iUgj6zbDTh-BGNnAqJlehJWi=s64",
      "userId": "02801971987668662503"
     },
     "user_tz": 180
    },
    "id": "oV82zw203GxY"
   },
   "outputs": [],
   "source": [
    "contents = pd.read_csv('wikipedia_dataset-2c2021/contents.csv')"
   ]
  },
  {
   "cell_type": "code",
   "execution_count": 3,
   "metadata": {
    "colab": {
     "base_uri": "https://localhost:8080/",
     "height": 204
    },
    "executionInfo": {
     "elapsed": 33,
     "status": "ok",
     "timestamp": 1632261607532,
     "user": {
      "displayName": "Ángel Martín Veiga",
      "photoUrl": "https://lh3.googleusercontent.com/a-/AOh14GhuIO_HePT528k3iUgj6zbDTh-BGNnAqJlehJWi=s64",
      "userId": "02801971987668662503"
     },
     "user_tz": 180
    },
    "id": "uSTpI1uD3S0d",
    "outputId": "7fb6e5ab-00ad-44a7-ca07-d860ba628292"
   },
   "outputs": [
    {
     "data": {
      "text/html": [
       "<div>\n",
       "<style scoped>\n",
       "    .dataframe tbody tr th:only-of-type {\n",
       "        vertical-align: middle;\n",
       "    }\n",
       "\n",
       "    .dataframe tbody tr th {\n",
       "        vertical-align: top;\n",
       "    }\n",
       "\n",
       "    .dataframe thead th {\n",
       "        text-align: right;\n",
       "    }\n",
       "</style>\n",
       "<table border=\"1\" class=\"dataframe\">\n",
       "  <thead>\n",
       "    <tr style=\"text-align: right;\">\n",
       "      <th></th>\n",
       "      <th>title</th>\n",
       "      <th>id</th>\n",
       "      <th>namespace</th>\n",
       "      <th>revision_id</th>\n",
       "      <th>parent_revision</th>\n",
       "      <th>revision_timestamp</th>\n",
       "      <th>revisor_username</th>\n",
       "      <th>revisor_id</th>\n",
       "      <th>revisor_ip</th>\n",
       "      <th>revisor_comment</th>\n",
       "    </tr>\n",
       "  </thead>\n",
       "  <tbody>\n",
       "    <tr>\n",
       "      <th>0</th>\n",
       "      <td>Wikipedia:Artículos solicitados</td>\n",
       "      <td>5</td>\n",
       "      <td>4</td>\n",
       "      <td>132533307</td>\n",
       "      <td>132516631.0</td>\n",
       "      <td>2021-01-19T18:40:34Z</td>\n",
       "      <td>Metrónomo</td>\n",
       "      <td>1708233.0</td>\n",
       "      <td>NaN</td>\n",
       "      <td>Así esta mejor</td>\n",
       "    </tr>\n",
       "    <tr>\n",
       "      <th>1</th>\n",
       "      <td>Andorra</td>\n",
       "      <td>7</td>\n",
       "      <td>0</td>\n",
       "      <td>138035057</td>\n",
       "      <td>138027475.0</td>\n",
       "      <td>2021-08-31T18:27:01Z</td>\n",
       "      <td>NaN</td>\n",
       "      <td>NaN</td>\n",
       "      <td>2800:CD0:FC1B:A900:C5A4:9E81:7175:2ED2</td>\n",
       "      <td>Añadir contenido</td>\n",
       "    </tr>\n",
       "    <tr>\n",
       "      <th>2</th>\n",
       "      <td>Argentina</td>\n",
       "      <td>10</td>\n",
       "      <td>0</td>\n",
       "      <td>137966826</td>\n",
       "      <td>137825165.0</td>\n",
       "      <td>2021-08-28T17:17:54Z</td>\n",
       "      <td>Traitrich</td>\n",
       "      <td>4642283.0</td>\n",
       "      <td>NaN</td>\n",
       "      <td>Reemplazos con [[Usuario:Benjavalero/Replacer|...</td>\n",
       "    </tr>\n",
       "    <tr>\n",
       "      <th>3</th>\n",
       "      <td>Geografía de Andorra</td>\n",
       "      <td>15</td>\n",
       "      <td>0</td>\n",
       "      <td>137986788</td>\n",
       "      <td>133666383.0</td>\n",
       "      <td>2021-08-29T17:16:00Z</td>\n",
       "      <td>Lojwe</td>\n",
       "      <td>5338508.0</td>\n",
       "      <td>NaN</td>\n",
       "      <td>Reemplazos con [[Usuario:Benjavalero/Replacer|...</td>\n",
       "    </tr>\n",
       "    <tr>\n",
       "      <th>4</th>\n",
       "      <td>Demografía de Andorra</td>\n",
       "      <td>17</td>\n",
       "      <td>0</td>\n",
       "      <td>130869554</td>\n",
       "      <td>129413188.0</td>\n",
       "      <td>2020-11-12T19:56:15Z</td>\n",
       "      <td>Jialxv</td>\n",
       "      <td>3615366.0</td>\n",
       "      <td>NaN</td>\n",
       "      <td>Correcciones ortográficas con [[Usuario:Benjav...</td>\n",
       "    </tr>\n",
       "  </tbody>\n",
       "</table>\n",
       "</div>"
      ],
      "text/plain": [
       "                             title  id  namespace  revision_id  \\\n",
       "0  Wikipedia:Artículos solicitados   5          4    132533307   \n",
       "1                          Andorra   7          0    138035057   \n",
       "2                        Argentina  10          0    137966826   \n",
       "3             Geografía de Andorra  15          0    137986788   \n",
       "4            Demografía de Andorra  17          0    130869554   \n",
       "\n",
       "   parent_revision    revision_timestamp revisor_username  revisor_id  \\\n",
       "0      132516631.0  2021-01-19T18:40:34Z        Metrónomo   1708233.0   \n",
       "1      138027475.0  2021-08-31T18:27:01Z              NaN         NaN   \n",
       "2      137825165.0  2021-08-28T17:17:54Z        Traitrich   4642283.0   \n",
       "3      133666383.0  2021-08-29T17:16:00Z            Lojwe   5338508.0   \n",
       "4      129413188.0  2020-11-12T19:56:15Z           Jialxv   3615366.0   \n",
       "\n",
       "                               revisor_ip  \\\n",
       "0                                     NaN   \n",
       "1  2800:CD0:FC1B:A900:C5A4:9E81:7175:2ED2   \n",
       "2                                     NaN   \n",
       "3                                     NaN   \n",
       "4                                     NaN   \n",
       "\n",
       "                                     revisor_comment  \n",
       "0                                     Así esta mejor  \n",
       "1                                   Añadir contenido  \n",
       "2  Reemplazos con [[Usuario:Benjavalero/Replacer|...  \n",
       "3  Reemplazos con [[Usuario:Benjavalero/Replacer|...  \n",
       "4  Correcciones ortográficas con [[Usuario:Benjav...  "
      ]
     },
     "execution_count": 3,
     "metadata": {},
     "output_type": "execute_result"
    }
   ],
   "source": [
    "contents.head()"
   ]
  },
  {
   "cell_type": "code",
   "execution_count": 4,
   "metadata": {
    "colab": {
     "base_uri": "https://localhost:8080/"
    },
    "executionInfo": {
     "elapsed": 455,
     "status": "ok",
     "timestamp": 1632261607961,
     "user": {
      "displayName": "Ángel Martín Veiga",
      "photoUrl": "https://lh3.googleusercontent.com/a-/AOh14GhuIO_HePT528k3iUgj6zbDTh-BGNnAqJlehJWi=s64",
      "userId": "02801971987668662503"
     },
     "user_tz": 180
    },
    "id": "A3yvjLA5G0AI",
    "outputId": "f38ae554-42e6-43b1-da11-c5d4689f2720"
   },
   "outputs": [
    {
     "data": {
      "text/plain": [
       "True"
      ]
     },
     "execution_count": 4,
     "metadata": {},
     "output_type": "execute_result"
    }
   ],
   "source": [
    "contents['title'].hasnans"
   ]
  },
  {
   "cell_type": "code",
   "execution_count": 5,
   "metadata": {
    "colab": {
     "base_uri": "https://localhost:8080/"
    },
    "executionInfo": {
     "elapsed": 13,
     "status": "ok",
     "timestamp": 1632261607962,
     "user": {
      "displayName": "Ángel Martín Veiga",
      "photoUrl": "https://lh3.googleusercontent.com/a-/AOh14GhuIO_HePT528k3iUgj6zbDTh-BGNnAqJlehJWi=s64",
      "userId": "02801971987668662503"
     },
     "user_tz": 180
    },
    "id": "lzvmfwSctfNc",
    "outputId": "36884f4b-ad32-4a00-c73d-3f6e543e542a"
   },
   "outputs": [
    {
     "data": {
      "text/plain": [
       "4"
      ]
     },
     "execution_count": 5,
     "metadata": {},
     "output_type": "execute_result"
    }
   ],
   "source": [
    "contents['title'].isna().sum()"
   ]
  },
  {
   "cell_type": "markdown",
   "metadata": {
    "id": "BV_sA-MGXNEv"
   },
   "source": [
    "Tienen 4 *NaN*s verifico si dichos títulos nulos tienen contenido."
   ]
  },
  {
   "cell_type": "code",
   "execution_count": 6,
   "metadata": {
    "colab": {
     "base_uri": "https://localhost:8080/",
     "height": 173
    },
    "executionInfo": {
     "elapsed": 726,
     "status": "ok",
     "timestamp": 1632261608683,
     "user": {
      "displayName": "Ángel Martín Veiga",
      "photoUrl": "https://lh3.googleusercontent.com/a-/AOh14GhuIO_HePT528k3iUgj6zbDTh-BGNnAqJlehJWi=s64",
      "userId": "02801971987668662503"
     },
     "user_tz": 180
    },
    "id": "07fxHFkPGZUu",
    "outputId": "d0801948-3ae2-4850-84d4-a8e776d44fdb"
   },
   "outputs": [
    {
     "data": {
      "text/html": [
       "<div>\n",
       "<style scoped>\n",
       "    .dataframe tbody tr th:only-of-type {\n",
       "        vertical-align: middle;\n",
       "    }\n",
       "\n",
       "    .dataframe tbody tr th {\n",
       "        vertical-align: top;\n",
       "    }\n",
       "\n",
       "    .dataframe thead th {\n",
       "        text-align: right;\n",
       "    }\n",
       "</style>\n",
       "<table border=\"1\" class=\"dataframe\">\n",
       "  <thead>\n",
       "    <tr style=\"text-align: right;\">\n",
       "      <th></th>\n",
       "      <th>title</th>\n",
       "      <th>id</th>\n",
       "      <th>namespace</th>\n",
       "      <th>revision_id</th>\n",
       "      <th>parent_revision</th>\n",
       "      <th>revision_timestamp</th>\n",
       "      <th>revisor_username</th>\n",
       "      <th>revisor_id</th>\n",
       "      <th>revisor_ip</th>\n",
       "      <th>revisor_comment</th>\n",
       "    </tr>\n",
       "  </thead>\n",
       "  <tbody>\n",
       "    <tr>\n",
       "      <th>106711</th>\n",
       "      <td>NaN</td>\n",
       "      <td>241067</td>\n",
       "      <td>0</td>\n",
       "      <td>125955134</td>\n",
       "      <td>125955101.0</td>\n",
       "      <td>2020-05-11T02:21:28Z</td>\n",
       "      <td>Banfield</td>\n",
       "      <td>63211.0</td>\n",
       "      <td>NaN</td>\n",
       "      <td>pido referencias adicionales, quito enlace ext...</td>\n",
       "    </tr>\n",
       "    <tr>\n",
       "      <th>401624</th>\n",
       "      <td>NaN</td>\n",
       "      <td>1007123</td>\n",
       "      <td>0</td>\n",
       "      <td>34784174</td>\n",
       "      <td>23562776.0</td>\n",
       "      <td>2010-03-07T18:35:09Z</td>\n",
       "      <td>CEM-bot</td>\n",
       "      <td>93153.0</td>\n",
       "      <td>NaN</td>\n",
       "      <td>Cambios menores.</td>\n",
       "    </tr>\n",
       "    <tr>\n",
       "      <th>498277</th>\n",
       "      <td>NaN</td>\n",
       "      <td>1292078</td>\n",
       "      <td>0</td>\n",
       "      <td>12689919</td>\n",
       "      <td>NaN</td>\n",
       "      <td>2007-11-09T14:40:22Z</td>\n",
       "      <td>Emijrp</td>\n",
       "      <td>32395.0</td>\n",
       "      <td>NaN</td>\n",
       "      <td>Redirigiendo a [[Null]]</td>\n",
       "    </tr>\n",
       "    <tr>\n",
       "      <th>803681</th>\n",
       "      <td>NaN</td>\n",
       "      <td>2054827</td>\n",
       "      <td>0</td>\n",
       "      <td>34933553</td>\n",
       "      <td>23073570.0</td>\n",
       "      <td>2010-03-11T05:11:47Z</td>\n",
       "      <td>CEM-bot</td>\n",
       "      <td>93153.0</td>\n",
       "      <td>NaN</td>\n",
       "      <td>Cambios menores.</td>\n",
       "    </tr>\n",
       "  </tbody>\n",
       "</table>\n",
       "</div>"
      ],
      "text/plain": [
       "       title       id  namespace  revision_id  parent_revision  \\\n",
       "106711   NaN   241067          0    125955134      125955101.0   \n",
       "401624   NaN  1007123          0     34784174       23562776.0   \n",
       "498277   NaN  1292078          0     12689919              NaN   \n",
       "803681   NaN  2054827          0     34933553       23073570.0   \n",
       "\n",
       "          revision_timestamp revisor_username  revisor_id revisor_ip  \\\n",
       "106711  2020-05-11T02:21:28Z         Banfield     63211.0        NaN   \n",
       "401624  2010-03-07T18:35:09Z          CEM-bot     93153.0        NaN   \n",
       "498277  2007-11-09T14:40:22Z           Emijrp     32395.0        NaN   \n",
       "803681  2010-03-11T05:11:47Z          CEM-bot     93153.0        NaN   \n",
       "\n",
       "                                          revisor_comment  \n",
       "106711  pido referencias adicionales, quito enlace ext...  \n",
       "401624                                   Cambios menores.  \n",
       "498277                            Redirigiendo a [[Null]]  \n",
       "803681                                   Cambios menores.  "
      ]
     },
     "execution_count": 6,
     "metadata": {},
     "output_type": "execute_result"
    }
   ],
   "source": [
    "title_fillna = contents['title'].fillna('NaN')\n",
    "FiltroTitleNan = title_fillna == 'NaN'\n",
    "contents_NaN = contents[FiltroTitleNan]\n",
    "contents_NaN"
   ]
  },
  {
   "cell_type": "markdown",
   "metadata": {
    "id": "v5wgPfowVxjd"
   },
   "source": [
    "Los 4 títulos NaN tienen contenido, los cuento como títulos con longitud menor a 20."
   ]
  },
  {
   "cell_type": "code",
   "execution_count": 7,
   "metadata": {
    "executionInfo": {
     "elapsed": 26,
     "status": "ok",
     "timestamp": 1632261608691,
     "user": {
      "displayName": "Ángel Martín Veiga",
      "photoUrl": "https://lh3.googleusercontent.com/a-/AOh14GhuIO_HePT528k3iUgj6zbDTh-BGNnAqJlehJWi=s64",
      "userId": "02801971987668662503"
     },
     "user_tz": 180
    },
    "id": "ozZfw9Dw3WW9"
   },
   "outputs": [],
   "source": [
    "contents['title'] = title_fillna"
   ]
  },
  {
   "cell_type": "code",
   "execution_count": 8,
   "metadata": {
    "colab": {
     "base_uri": "https://localhost:8080/"
    },
    "executionInfo": {
     "elapsed": 26,
     "status": "ok",
     "timestamp": 1632261608692,
     "user": {
      "displayName": "Ángel Martín Veiga",
      "photoUrl": "https://lh3.googleusercontent.com/a-/AOh14GhuIO_HePT528k3iUgj6zbDTh-BGNnAqJlehJWi=s64",
      "userId": "02801971987668662503"
     },
     "user_tz": 180
    },
    "id": "raVLSqpQuAox",
    "outputId": "4d3bf1f9-40ae-442e-b575-047f8e068e2d"
   },
   "outputs": [
    {
     "data": {
      "text/plain": [
       "0"
      ]
     },
     "execution_count": 8,
     "metadata": {},
     "output_type": "execute_result"
    }
   ],
   "source": [
    "contents['title'].isna().sum()"
   ]
  },
  {
   "cell_type": "code",
   "execution_count": 10,
   "metadata": {
    "colab": {
     "base_uri": "https://localhost:8080/"
    },
    "executionInfo": {
     "elapsed": 2069,
     "status": "ok",
     "timestamp": 1632261610984,
     "user": {
      "displayName": "Ángel Martín Veiga",
      "photoUrl": "https://lh3.googleusercontent.com/a-/AOh14GhuIO_HePT528k3iUgj6zbDTh-BGNnAqJlehJWi=s64",
      "userId": "02801971987668662503"
     },
     "user_tz": 180
    },
    "id": "CgNPzQQs8r0E",
    "outputId": "a31524a6-a4f6-4a99-a657-087b528ab4fb"
   },
   "outputs": [
    {
     "data": {
      "text/plain": [
       "0          False\n",
       "1           True\n",
       "2           True\n",
       "3          False\n",
       "4          False\n",
       "           ...  \n",
       "4132159     True\n",
       "4132160    False\n",
       "4132161     True\n",
       "4132162    False\n",
       "4132163     True\n",
       "Name: title, Length: 4132164, dtype: bool"
      ]
     },
     "execution_count": 10,
     "metadata": {},
     "output_type": "execute_result"
    }
   ],
   "source": [
    "titles_menores_20 = contents['title'].str.len()<20\n",
    "titles_menores_20"
   ]
  },
  {
   "cell_type": "code",
   "execution_count": 11,
   "metadata": {
    "colab": {
     "base_uri": "https://localhost:8080/"
    },
    "executionInfo": {
     "elapsed": 17,
     "status": "ok",
     "timestamp": 1632261610985,
     "user": {
      "displayName": "Ángel Martín Veiga",
      "photoUrl": "https://lh3.googleusercontent.com/a-/AOh14GhuIO_HePT528k3iUgj6zbDTh-BGNnAqJlehJWi=s64",
      "userId": "02801971987668662503"
     },
     "user_tz": 180
    },
    "id": "Rt91PvFYe1Cj",
    "outputId": "6d810003-8fc8-4f0d-c080-56c8cca7fa88"
   },
   "outputs": [],
   "source": [
    "porcentaje = titles_menores_20.mean() * 100"
   ]
  },
  {
   "cell_type": "markdown",
   "metadata": {},
   "source": [
    "## Resultado"
   ]
  },
  {
   "cell_type": "code",
   "execution_count": 12,
   "metadata": {},
   "outputs": [
    {
     "name": "stdout",
     "output_type": "stream",
     "text": [
      "El porcentaje de títulos de contenidos de wikipedia cuya longitud es menor a 20 es: 48.985205\n"
     ]
    }
   ],
   "source": [
    "print('El porcentaje de títulos de contenidos de wikipedia cuya longitud es menor a 20 es: %f'%(porcentaje))"
   ]
  }
 ],
 "metadata": {
  "colab": {
   "authorship_tag": "ABX9TyO4B7UiSIZmWqMlzyUFOo0z",
   "mount_file_id": "17uaAwV2YGxwRMYNTT8S0FcWQ11a3h7N1",
   "name": "TP1-Primera parte-3 .ipynb",
   "provenance": []
  },
  "kernelspec": {
   "display_name": "Python 3",
   "language": "python",
   "name": "python3"
  },
  "language_info": {
   "codemirror_mode": {
    "name": "ipython",
    "version": 3
   },
   "file_extension": ".py",
   "mimetype": "text/x-python",
   "name": "python",
   "nbconvert_exporter": "python",
   "pygments_lexer": "ipython3",
   "version": "3.8.8"
  }
 },
 "nbformat": 4,
 "nbformat_minor": 1
}
