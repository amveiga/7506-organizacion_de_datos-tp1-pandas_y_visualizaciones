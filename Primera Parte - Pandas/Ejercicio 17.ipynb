{
 "cells": [
  {
   "cell_type": "markdown",
   "metadata": {
    "id": "-lxOAGW1_0ua"
   },
   "source": [
    "# Ejercicio 17\n",
    "\n",
    "Utilice los textos del contenido para realizar consultas por texto utilizando las\n",
    "técnicas vistas en la clase de NLP (BOW o TF-IDF) de modo que la query \"retablo\n",
    "iglesia\" devuelva alguna página acerca del retablo de alguna iglesia"
   ]
  },
  {
   "cell_type": "code",
   "execution_count": 1,
   "metadata": {
    "colab": {
     "base_uri": "https://localhost:8080/"
    },
    "executionInfo": {
     "elapsed": 1755,
     "status": "ok",
     "timestamp": 1633473610323,
     "user": {
      "displayName": "Ángel Martín Veiga",
      "photoUrl": "https://lh3.googleusercontent.com/a-/AOh14GhuIO_HePT528k3iUgj6zbDTh-BGNnAqJlehJWi=s64",
      "userId": "02801971987668662503"
     },
     "user_tz": 180
    },
    "id": "zCaq8NqB2Ile",
    "outputId": "3beaf555-b80f-49cb-b9b4-10e2f83d5179"
   },
   "outputs": [],
   "source": [
    "import pandas as pd\n",
    "import nltk\n",
    "# nltk.download('stopwords')\n",
    "from sklearn.feature_extraction.text import CountVectorizer, TfidfVectorizer\n",
    "import numpy as np\n",
    "from sklearn.neighbors import NearestNeighbors"
   ]
  },
  {
   "cell_type": "code",
   "execution_count": 2,
   "metadata": {
    "executionInfo": {
     "elapsed": 9762,
     "status": "ok",
     "timestamp": 1633473620083,
     "user": {
      "displayName": "Ángel Martín Veiga",
      "photoUrl": "https://lh3.googleusercontent.com/a-/AOh14GhuIO_HePT528k3iUgj6zbDTh-BGNnAqJlehJWi=s64",
      "userId": "02801971987668662503"
     },
     "user_tz": 180
    },
    "id": "TdQK85Vd2J8i"
   },
   "outputs": [],
   "source": [
    "contents_text = pd.read_csv('wikipedia_dataset-2c2021/contents_text_sample.csv')"
   ]
  },
  {
   "cell_type": "code",
   "execution_count": 3,
   "metadata": {
    "colab": {
     "base_uri": "https://localhost:8080/",
     "height": 359
    },
    "executionInfo": {
     "elapsed": 16,
     "status": "ok",
     "timestamp": 1633473620086,
     "user": {
      "displayName": "Ángel Martín Veiga",
      "photoUrl": "https://lh3.googleusercontent.com/a-/AOh14GhuIO_HePT528k3iUgj6zbDTh-BGNnAqJlehJWi=s64",
      "userId": "02801971987668662503"
     },
     "user_tz": 180
    },
    "id": "sllJcln9mYM4",
    "outputId": "ed085dd9-fce9-4499-e778-e0369c419f01",
    "scrolled": true
   },
   "outputs": [
    {
     "data": {
      "text/html": [
       "<div>\n",
       "<style scoped>\n",
       "    .dataframe tbody tr th:only-of-type {\n",
       "        vertical-align: middle;\n",
       "    }\n",
       "\n",
       "    .dataframe tbody tr th {\n",
       "        vertical-align: top;\n",
       "    }\n",
       "\n",
       "    .dataframe thead th {\n",
       "        text-align: right;\n",
       "    }\n",
       "</style>\n",
       "<table border=\"1\" class=\"dataframe\">\n",
       "  <thead>\n",
       "    <tr style=\"text-align: right;\">\n",
       "      <th></th>\n",
       "      <th>id</th>\n",
       "      <th>title</th>\n",
       "      <th>text</th>\n",
       "    </tr>\n",
       "  </thead>\n",
       "  <tbody>\n",
       "    <tr>\n",
       "      <th>42870</th>\n",
       "      <td>2129149</td>\n",
       "      <td>Categoría:Sarcófagos romanos</td>\n",
       "      <td>[[Categoría:Arte de Italia]]\\n[[Categoría:Sarc...</td>\n",
       "    </tr>\n",
       "    <tr>\n",
       "      <th>136437</th>\n",
       "      <td>6003050</td>\n",
       "      <td>Plaza Huincul (Pozo uno)</td>\n",
       "      <td>{{Ficha de película\\n| título original  = Plaz...</td>\n",
       "    </tr>\n",
       "    <tr>\n",
       "      <th>194401</th>\n",
       "      <td>9392729</td>\n",
       "      <td>Constantino de Horta y Pardo</td>\n",
       "      <td>#REDIRECCIÓN [[Constantino Horta ]]</td>\n",
       "    </tr>\n",
       "    <tr>\n",
       "      <th>30497</th>\n",
       "      <td>1584528</td>\n",
       "      <td>Comarum angustifolium</td>\n",
       "      <td>#REDIRECCIÓN [[Comarum palustre]]</td>\n",
       "    </tr>\n",
       "    <tr>\n",
       "      <th>17891</th>\n",
       "      <td>873974</td>\n",
       "      <td>So Long And Thanks for All The Shoes</td>\n",
       "      <td>#redirect [[So Long and Thanks for All the Sho...</td>\n",
       "    </tr>\n",
       "    <tr>\n",
       "      <th>170790</th>\n",
       "      <td>8008952</td>\n",
       "      <td>Relaciones Chile-Malta</td>\n",
       "      <td>{{Ficha de relaciones bilaterales\\n&lt;!-- Entida...</td>\n",
       "    </tr>\n",
       "    <tr>\n",
       "      <th>47043</th>\n",
       "      <td>2256767</td>\n",
       "      <td>Neomanniophyton</td>\n",
       "      <td>#REDIRECCIÓN [[Crotonogyne]]</td>\n",
       "    </tr>\n",
       "    <tr>\n",
       "      <th>15954</th>\n",
       "      <td>772295</td>\n",
       "      <td>Welles Hoyt</td>\n",
       "      <td>{{Ficha de deportista\\n|medallista olímpico = ...</td>\n",
       "    </tr>\n",
       "    <tr>\n",
       "      <th>26250</th>\n",
       "      <td>1361268</td>\n",
       "      <td>Xaltocan</td>\n",
       "      <td>{{desambiguación}}\\n\\nEl término '''Xaltocan''...</td>\n",
       "    </tr>\n",
       "    <tr>\n",
       "      <th>182456</th>\n",
       "      <td>8675714</td>\n",
       "      <td>Nickel and Dimed</td>\n",
       "      <td>#REDIRECCIÓN [[Por cuatro duros]]</td>\n",
       "    </tr>\n",
       "  </tbody>\n",
       "</table>\n",
       "</div>"
      ],
      "text/plain": [
       "             id                                 title  \\\n",
       "42870   2129149          Categoría:Sarcófagos romanos   \n",
       "136437  6003050              Plaza Huincul (Pozo uno)   \n",
       "194401  9392729          Constantino de Horta y Pardo   \n",
       "30497   1584528                 Comarum angustifolium   \n",
       "17891    873974  So Long And Thanks for All The Shoes   \n",
       "170790  8008952                Relaciones Chile-Malta   \n",
       "47043   2256767                       Neomanniophyton   \n",
       "15954    772295                           Welles Hoyt   \n",
       "26250   1361268                              Xaltocan   \n",
       "182456  8675714                      Nickel and Dimed   \n",
       "\n",
       "                                                     text  \n",
       "42870   [[Categoría:Arte de Italia]]\\n[[Categoría:Sarc...  \n",
       "136437  {{Ficha de película\\n| título original  = Plaz...  \n",
       "194401                #REDIRECCIÓN [[Constantino Horta ]]  \n",
       "30497                   #REDIRECCIÓN [[Comarum palustre]]  \n",
       "17891   #redirect [[So Long and Thanks for All the Sho...  \n",
       "170790  {{Ficha de relaciones bilaterales\\n<!-- Entida...  \n",
       "47043                        #REDIRECCIÓN [[Crotonogyne]]  \n",
       "15954   {{Ficha de deportista\\n|medallista olímpico = ...  \n",
       "26250   {{desambiguación}}\\n\\nEl término '''Xaltocan''...  \n",
       "182456                  #REDIRECCIÓN [[Por cuatro duros]]  "
      ]
     },
     "execution_count": 3,
     "metadata": {},
     "output_type": "execute_result"
    }
   ],
   "source": [
    "contents_text.sample(10)"
   ]
  },
  {
   "cell_type": "code",
   "execution_count": 4,
   "metadata": {
    "colab": {
     "base_uri": "https://localhost:8080/"
    },
    "executionInfo": {
     "elapsed": 15,
     "status": "ok",
     "timestamp": 1633473620087,
     "user": {
      "displayName": "Ángel Martín Veiga",
      "photoUrl": "https://lh3.googleusercontent.com/a-/AOh14GhuIO_HePT528k3iUgj6zbDTh-BGNnAqJlehJWi=s64",
      "userId": "02801971987668662503"
     },
     "user_tz": 180
    },
    "id": "ski2aI-KIxBL",
    "outputId": "49ddea5f-12d6-453a-fcbc-08214bd2f34e"
   },
   "outputs": [
    {
     "data": {
      "text/plain": [
       "id       0\n",
       "title    0\n",
       "text     7\n",
       "dtype: int64"
      ]
     },
     "execution_count": 4,
     "metadata": {},
     "output_type": "execute_result"
    }
   ],
   "source": [
    "contents_text.isna().sum()"
   ]
  },
  {
   "cell_type": "code",
   "execution_count": 5,
   "metadata": {},
   "outputs": [
    {
     "data": {
      "text/plain": [
       "(206607, 3)"
      ]
     },
     "execution_count": 5,
     "metadata": {},
     "output_type": "execute_result"
    }
   ],
   "source": [
    "contents_text.shape"
   ]
  },
  {
   "cell_type": "markdown",
   "metadata": {
    "id": "caOC8zIvmN1W"
   },
   "source": [
    "Son muy pocos, los saco."
   ]
  },
  {
   "cell_type": "code",
   "execution_count": 6,
   "metadata": {
    "colab": {
     "base_uri": "https://localhost:8080/"
    },
    "executionInfo": {
     "elapsed": 14,
     "status": "ok",
     "timestamp": 1633473620088,
     "user": {
      "displayName": "Ángel Martín Veiga",
      "photoUrl": "https://lh3.googleusercontent.com/a-/AOh14GhuIO_HePT528k3iUgj6zbDTh-BGNnAqJlehJWi=s64",
      "userId": "02801971987668662503"
     },
     "user_tz": 180
    },
    "id": "hH6s5lAtI2iQ",
    "outputId": "2a88d71c-cf25-4c4c-8c07-13999b66d073"
   },
   "outputs": [
    {
     "data": {
      "text/plain": [
       "id       0\n",
       "title    0\n",
       "text     0\n",
       "dtype: int64"
      ]
     },
     "execution_count": 6,
     "metadata": {},
     "output_type": "execute_result"
    }
   ],
   "source": [
    "contents_text = contents_text.dropna()\n",
    "contents_text.isna().sum()"
   ]
  },
  {
   "cell_type": "code",
   "execution_count": 7,
   "metadata": {
    "executionInfo": {
     "elapsed": 14,
     "status": "ok",
     "timestamp": 1633473620089,
     "user": {
      "displayName": "Ángel Martín Veiga",
      "photoUrl": "https://lh3.googleusercontent.com/a-/AOh14GhuIO_HePT528k3iUgj6zbDTh-BGNnAqJlehJWi=s64",
      "userId": "02801971987668662503"
     },
     "user_tz": 180
    },
    "id": "3AInDtZCAf6b"
   },
   "outputs": [],
   "source": [
    "texts = contents_text['text'].tolist()"
   ]
  },
  {
   "cell_type": "code",
   "execution_count": 8,
   "metadata": {
    "executionInfo": {
     "elapsed": 103427,
     "status": "ok",
     "timestamp": 1633473723502,
     "user": {
      "displayName": "Ángel Martín Veiga",
      "photoUrl": "https://lh3.googleusercontent.com/a-/AOh14GhuIO_HePT528k3iUgj6zbDTh-BGNnAqJlehJWi=s64",
      "userId": "02801971987668662503"
     },
     "user_tz": 180
    },
    "id": "mxvTgZolIHGw"
   },
   "outputs": [],
   "source": [
    "vectorizer = TfidfVectorizer(lowercase=True, stop_words=nltk.corpus.stopwords.words('spanish'),\n",
    "                            max_features=10000)\n",
    "matrix = vectorizer.fit_transform(texts)"
   ]
  },
  {
   "cell_type": "code",
   "execution_count": 9,
   "metadata": {
    "colab": {
     "base_uri": "https://localhost:8080/"
    },
    "executionInfo": {
     "elapsed": 9,
     "status": "ok",
     "timestamp": 1633473723504,
     "user": {
      "displayName": "Ángel Martín Veiga",
      "photoUrl": "https://lh3.googleusercontent.com/a-/AOh14GhuIO_HePT528k3iUgj6zbDTh-BGNnAqJlehJWi=s64",
      "userId": "02801971987668662503"
     },
     "user_tz": 180
    },
    "id": "gMdWX13OMRmf",
    "outputId": "f9db0a2d-bdd2-4714-c581-98274bbe85f5"
   },
   "outputs": [
    {
     "data": {
      "text/plain": [
       "<206600x10000 sparse matrix of type '<class 'numpy.float64'>'\n",
       "\twith 18077724 stored elements in Compressed Sparse Row format>"
      ]
     },
     "execution_count": 9,
     "metadata": {},
     "output_type": "execute_result"
    }
   ],
   "source": [
    "matrix"
   ]
  },
  {
   "cell_type": "code",
   "execution_count": 10,
   "metadata": {
    "colab": {
     "base_uri": "https://localhost:8080/"
    },
    "executionInfo": {
     "elapsed": 203,
     "status": "ok",
     "timestamp": 1633474400651,
     "user": {
      "displayName": "Ángel Martín Veiga",
      "photoUrl": "https://lh3.googleusercontent.com/a-/AOh14GhuIO_HePT528k3iUgj6zbDTh-BGNnAqJlehJWi=s64",
      "userId": "02801971987668662503"
     },
     "user_tz": 180
    },
    "id": "T_WbvCyrOyLs",
    "outputId": "6f11d416-1fe9-4df1-ccc0-0dc0a76b6fd2"
   },
   "outputs": [
    {
     "data": {
      "text/plain": [
       "NearestNeighbors(metric='cosine')"
      ]
     },
     "execution_count": 10,
     "metadata": {},
     "output_type": "execute_result"
    }
   ],
   "source": [
    "buscador = NearestNeighbors(metric='cosine')\n",
    "buscador.fit(matrix)"
   ]
  },
  {
   "cell_type": "code",
   "execution_count": 11,
   "metadata": {
    "executionInfo": {
     "elapsed": 284,
     "status": "ok",
     "timestamp": 1633474402641,
     "user": {
      "displayName": "Ángel Martín Veiga",
      "photoUrl": "https://lh3.googleusercontent.com/a-/AOh14GhuIO_HePT528k3iUgj6zbDTh-BGNnAqJlehJWi=s64",
      "userId": "02801971987668662503"
     },
     "user_tz": 180
    },
    "id": "nqL1siqxKISs"
   },
   "outputs": [],
   "source": [
    "query = \"retablo iglesia\"\n",
    "vector_query = vectorizer.transform([query])"
   ]
  },
  {
   "cell_type": "code",
   "execution_count": 12,
   "metadata": {
    "executionInfo": {
     "elapsed": 889,
     "status": "ok",
     "timestamp": 1633474404593,
     "user": {
      "displayName": "Ángel Martín Veiga",
      "photoUrl": "https://lh3.googleusercontent.com/a-/AOh14GhuIO_HePT528k3iUgj6zbDTh-BGNnAqJlehJWi=s64",
      "userId": "02801971987668662503"
     },
     "user_tz": 180
    },
    "id": "TjmcxV_zJ5ji"
   },
   "outputs": [],
   "source": [
    "dist, indexes = buscador.kneighbors(vector_query, n_neighbors=10)"
   ]
  },
  {
   "cell_type": "code",
   "execution_count": 13,
   "metadata": {
    "executionInfo": {
     "elapsed": 1,
     "status": "ok",
     "timestamp": 1633474404879,
     "user": {
      "displayName": "Ángel Martín Veiga",
      "photoUrl": "https://lh3.googleusercontent.com/a-/AOh14GhuIO_HePT528k3iUgj6zbDTh-BGNnAqJlehJWi=s64",
      "userId": "02801971987668662503"
     },
     "user_tz": 180
    },
    "id": "jWCM9BFXOtuD"
   },
   "outputs": [],
   "source": [
    "list_indexes = indexes[0].tolist()\n",
    "list_dist = dist[0].tolist()"
   ]
  },
  {
   "cell_type": "code",
   "execution_count": 14,
   "metadata": {
    "colab": {
     "base_uri": "https://localhost:8080/"
    },
    "executionInfo": {
     "elapsed": 3,
     "status": "ok",
     "timestamp": 1633474405744,
     "user": {
      "displayName": "Ángel Martín Veiga",
      "photoUrl": "https://lh3.googleusercontent.com/a-/AOh14GhuIO_HePT528k3iUgj6zbDTh-BGNnAqJlehJWi=s64",
      "userId": "02801971987668662503"
     },
     "user_tz": 180
    },
    "id": "pktUta86iRY6",
    "outputId": "8cbe6b08-863d-43b6-a148-cf8cebbe6702"
   },
   "outputs": [
    {
     "data": {
      "text/plain": [
       "([193672, 132993, 5074, 114863, 50460, 140408, 176049, 82464, 6006, 130860],\n",
       " [0.16443901018233364,\n",
       "  0.18760550719240143,\n",
       "  0.18760550719240143,\n",
       "  0.22564388043915273,\n",
       "  0.2736790160063467,\n",
       "  0.3578099635592701,\n",
       "  0.44783220373724153,\n",
       "  0.447834157225122,\n",
       "  0.4673353297930376,\n",
       "  0.5024219329039882])"
      ]
     },
     "execution_count": 14,
     "metadata": {},
     "output_type": "execute_result"
    }
   ],
   "source": [
    "list_indexes, list_dist"
   ]
  },
  {
   "cell_type": "markdown",
   "metadata": {},
   "source": [
    "## Resultado"
   ]
  },
  {
   "cell_type": "code",
   "execution_count": 15,
   "metadata": {
    "colab": {
     "base_uri": "https://localhost:8080/",
     "height": 359
    },
    "executionInfo": {
     "elapsed": 226,
     "status": "ok",
     "timestamp": 1633474407299,
     "user": {
      "displayName": "Ángel Martín Veiga",
      "photoUrl": "https://lh3.googleusercontent.com/a-/AOh14GhuIO_HePT528k3iUgj6zbDTh-BGNnAqJlehJWi=s64",
      "userId": "02801971987668662503"
     },
     "user_tz": 180
    },
    "id": "2CpeTd50jJzC",
    "outputId": "19274c75-8abb-4c13-cdf4-6e84bedda4e0"
   },
   "outputs": [
    {
     "data": {
      "text/html": [
       "<div>\n",
       "<style scoped>\n",
       "    .dataframe tbody tr th:only-of-type {\n",
       "        vertical-align: middle;\n",
       "    }\n",
       "\n",
       "    .dataframe tbody tr th {\n",
       "        vertical-align: top;\n",
       "    }\n",
       "\n",
       "    .dataframe thead th {\n",
       "        text-align: right;\n",
       "    }\n",
       "</style>\n",
       "<table border=\"1\" class=\"dataframe\">\n",
       "  <thead>\n",
       "    <tr style=\"text-align: right;\">\n",
       "      <th></th>\n",
       "      <th>id</th>\n",
       "      <th>title</th>\n",
       "      <th>text</th>\n",
       "    </tr>\n",
       "  </thead>\n",
       "  <tbody>\n",
       "    <tr>\n",
       "      <th>193679</th>\n",
       "      <td>9357972</td>\n",
       "      <td>Retablo mayor de la iglesia de san millan de l...</td>\n",
       "      <td>#REDIRECCIÓN [[Retablo mayor de la iglesia de ...</td>\n",
       "    </tr>\n",
       "    <tr>\n",
       "      <th>132997</th>\n",
       "      <td>5833512</td>\n",
       "      <td>Barnabas altarpiece</td>\n",
       "      <td>#REDIRECCIÓN [[Retablo de Bernabé]]</td>\n",
       "    </tr>\n",
       "    <tr>\n",
       "      <th>5074</th>\n",
       "      <td>223146</td>\n",
       "      <td>Pala de altar</td>\n",
       "      <td>#REDIRECCIÓN [[Retablo]]</td>\n",
       "    </tr>\n",
       "    <tr>\n",
       "      <th>114864</th>\n",
       "      <td>5012235</td>\n",
       "      <td>Retablos</td>\n",
       "      <td>#REDIRECT [[Retablo]]</td>\n",
       "    </tr>\n",
       "    <tr>\n",
       "      <th>50461</th>\n",
       "      <td>2414778</td>\n",
       "      <td>Retablo mayor de la Basilica de la Asunción de...</td>\n",
       "      <td>#REDIRECCIÓN  [[Retablo mayor de la Basilica d...</td>\n",
       "    </tr>\n",
       "    <tr>\n",
       "      <th>140413</th>\n",
       "      <td>6176804</td>\n",
       "      <td>Retablo de la Virgen de los ediles</td>\n",
       "      <td>#REDIRECCIÓN [[Retablo de la Virgen de los Edi...</td>\n",
       "    </tr>\n",
       "    <tr>\n",
       "      <th>176055</th>\n",
       "      <td>8392682</td>\n",
       "      <td>Retablo (película)</td>\n",
       "      <td>{{Ficha de película\\n| título original = Retab...</td>\n",
       "    </tr>\n",
       "    <tr>\n",
       "      <th>82465</th>\n",
       "      <td>3805290</td>\n",
       "      <td>Museo del retablo (Burgos)</td>\n",
       "      <td>#REDIRECCIÓN [[Museo del Retablo (Burgos)]]</td>\n",
       "    </tr>\n",
       "    <tr>\n",
       "      <th>6006</th>\n",
       "      <td>264569</td>\n",
       "      <td>Museo del Retablo (Burgos)</td>\n",
       "      <td>{{Ficha de museo\\n\\n| nombre local = Iglesia d...</td>\n",
       "    </tr>\n",
       "    <tr>\n",
       "      <th>130864</th>\n",
       "      <td>5740372</td>\n",
       "      <td>Retablo gotico del Monasterio de Santes Creus</td>\n",
       "      <td>#REDIRECT [[Retablo gótico del Monasterio de S...</td>\n",
       "    </tr>\n",
       "  </tbody>\n",
       "</table>\n",
       "</div>"
      ],
      "text/plain": [
       "             id                                              title  \\\n",
       "193679  9357972  Retablo mayor de la iglesia de san millan de l...   \n",
       "132997  5833512                                Barnabas altarpiece   \n",
       "5074     223146                                      Pala de altar   \n",
       "114864  5012235                                           Retablos   \n",
       "50461   2414778  Retablo mayor de la Basilica de la Asunción de...   \n",
       "140413  6176804                 Retablo de la Virgen de los ediles   \n",
       "176055  8392682                                 Retablo (película)   \n",
       "82465   3805290                         Museo del retablo (Burgos)   \n",
       "6006     264569                         Museo del Retablo (Burgos)   \n",
       "130864  5740372      Retablo gotico del Monasterio de Santes Creus   \n",
       "\n",
       "                                                     text  \n",
       "193679  #REDIRECCIÓN [[Retablo mayor de la iglesia de ...  \n",
       "132997                #REDIRECCIÓN [[Retablo de Bernabé]]  \n",
       "5074                             #REDIRECCIÓN [[Retablo]]  \n",
       "114864                              #REDIRECT [[Retablo]]  \n",
       "50461   #REDIRECCIÓN  [[Retablo mayor de la Basilica d...  \n",
       "140413  #REDIRECCIÓN [[Retablo de la Virgen de los Edi...  \n",
       "176055  {{Ficha de película\\n| título original = Retab...  \n",
       "82465         #REDIRECCIÓN [[Museo del Retablo (Burgos)]]  \n",
       "6006    {{Ficha de museo\\n\\n| nombre local = Iglesia d...  \n",
       "130864  #REDIRECT [[Retablo gótico del Monasterio de S...  "
      ]
     },
     "execution_count": 15,
     "metadata": {},
     "output_type": "execute_result"
    }
   ],
   "source": [
    "contents_text.iloc[list_indexes,:]"
   ]
  }
 ],
 "metadata": {
  "colab": {
   "authorship_tag": "ABX9TyNzaFx7/ZwzAvIh7oibR1Rz",
   "collapsed_sections": [],
   "name": "TP1-Primera parte-17.ipynb",
   "provenance": []
  },
  "kernelspec": {
   "display_name": "Python 3",
   "language": "python",
   "name": "python3"
  },
  "language_info": {
   "codemirror_mode": {
    "name": "ipython",
    "version": 3
   },
   "file_extension": ".py",
   "mimetype": "text/x-python",
   "name": "python",
   "nbconvert_exporter": "python",
   "pygments_lexer": "ipython3",
   "version": "3.8.8"
  }
 },
 "nbformat": 4,
 "nbformat_minor": 1
}
