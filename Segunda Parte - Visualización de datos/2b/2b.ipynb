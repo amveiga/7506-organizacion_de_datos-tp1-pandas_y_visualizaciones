{
 "cells": [
  {
   "cell_type": "code",
   "execution_count": 1,
   "id": "c6d4ed82",
   "metadata": {},
   "outputs": [
    {
     "name": "stdout",
     "output_type": "stream",
     "text": [
      "Requirement already satisfied: squarify in c:\\users\\marti\\anaconda3\\lib\\site-packages (0.4.3)\n"
     ]
    }
   ],
   "source": [
    "!pip install squarify"
   ]
  },
  {
   "cell_type": "code",
   "execution_count": 2,
   "id": "d717b849",
   "metadata": {},
   "outputs": [],
   "source": [
    "import matplotlib\n",
    "import matplotlib.pyplot as plt\n",
    "import pandas as pd\n",
    "import squarify"
   ]
  },
  {
   "cell_type": "code",
   "execution_count": 3,
   "id": "c9b068c5",
   "metadata": {},
   "outputs": [],
   "source": [
    "df_messi_goles = pd.read_csv('datasets/Messi/Lionel Messi Goals.csv',sep=';',encoding='latin1')"
   ]
  },
  {
   "cell_type": "code",
   "execution_count": 4,
   "id": "d270ccb3",
   "metadata": {},
   "outputs": [
    {
     "data": {
      "text/html": [
       "<div>\n",
       "<style scoped>\n",
       "    .dataframe tbody tr th:only-of-type {\n",
       "        vertical-align: middle;\n",
       "    }\n",
       "\n",
       "    .dataframe tbody tr th {\n",
       "        vertical-align: top;\n",
       "    }\n",
       "\n",
       "    .dataframe thead th {\n",
       "        text-align: right;\n",
       "    }\n",
       "</style>\n",
       "<table border=\"1\" class=\"dataframe\">\n",
       "  <thead>\n",
       "    <tr style=\"text-align: right;\">\n",
       "      <th></th>\n",
       "      <th>Date</th>\n",
       "      <th>Competition Name</th>\n",
       "      <th>Home team</th>\n",
       "      <th>Opponent</th>\n",
       "      <th>Away team</th>\n",
       "      <th>Minute</th>\n",
       "      <th>Score Home Team - When Messi Scored</th>\n",
       "      <th>Score Away Team - When Messi Scored</th>\n",
       "      <th>Goal Type</th>\n",
       "      <th>Goal Method</th>\n",
       "      <th>Final Game Result</th>\n",
       "    </tr>\n",
       "  </thead>\n",
       "  <tbody>\n",
       "    <tr>\n",
       "      <th>0</th>\n",
       "      <td>samedi 16 février 2019</td>\n",
       "      <td>Liga</td>\n",
       "      <td>FC Barcelona</td>\n",
       "      <td>Real Valladolid</td>\n",
       "      <td>Real Valladolid</td>\n",
       "      <td>43</td>\n",
       "      <td>1</td>\n",
       "      <td>0</td>\n",
       "      <td>Penalty</td>\n",
       "      <td>Left foot</td>\n",
       "      <td>Won</td>\n",
       "    </tr>\n",
       "    <tr>\n",
       "      <th>1</th>\n",
       "      <td>dimanche 13 janvier 2019</td>\n",
       "      <td>Liga</td>\n",
       "      <td>FC Barcelona</td>\n",
       "      <td>Eibar</td>\n",
       "      <td>Eibar</td>\n",
       "      <td>53</td>\n",
       "      <td>2</td>\n",
       "      <td>0</td>\n",
       "      <td>Field goal</td>\n",
       "      <td>Left foot</td>\n",
       "      <td>Won</td>\n",
       "    </tr>\n",
       "    <tr>\n",
       "      <th>2</th>\n",
       "      <td>samedi 22 décembre 2018</td>\n",
       "      <td>Liga</td>\n",
       "      <td>FC Barcelona</td>\n",
       "      <td>Celta de Vigo</td>\n",
       "      <td>Celta de Vigo</td>\n",
       "      <td>45</td>\n",
       "      <td>2</td>\n",
       "      <td>0</td>\n",
       "      <td>Field goal</td>\n",
       "      <td>Left foot</td>\n",
       "      <td>Won</td>\n",
       "    </tr>\n",
       "    <tr>\n",
       "      <th>3</th>\n",
       "      <td>samedi 20 octobre 2018</td>\n",
       "      <td>Liga</td>\n",
       "      <td>FC Barcelona</td>\n",
       "      <td>Sevilla</td>\n",
       "      <td>Sevilla</td>\n",
       "      <td>12</td>\n",
       "      <td>2</td>\n",
       "      <td>0</td>\n",
       "      <td>Field goal</td>\n",
       "      <td>Left foot</td>\n",
       "      <td>Won</td>\n",
       "    </tr>\n",
       "    <tr>\n",
       "      <th>4</th>\n",
       "      <td>dimanche 23 septembre 2018</td>\n",
       "      <td>Liga</td>\n",
       "      <td>FC Barcelona</td>\n",
       "      <td>Girona</td>\n",
       "      <td>Girona</td>\n",
       "      <td>19</td>\n",
       "      <td>1</td>\n",
       "      <td>0</td>\n",
       "      <td>Field goal</td>\n",
       "      <td>Left foot</td>\n",
       "      <td>Draw</td>\n",
       "    </tr>\n",
       "    <tr>\n",
       "      <th>...</th>\n",
       "      <td>...</td>\n",
       "      <td>...</td>\n",
       "      <td>...</td>\n",
       "      <td>...</td>\n",
       "      <td>...</td>\n",
       "      <td>...</td>\n",
       "      <td>...</td>\n",
       "      <td>...</td>\n",
       "      <td>...</td>\n",
       "      <td>...</td>\n",
       "      <td>...</td>\n",
       "    </tr>\n",
       "    <tr>\n",
       "      <th>646</th>\n",
       "      <td>dimanche 17 juin 2007</td>\n",
       "      <td>Liga</td>\n",
       "      <td>Gimnàstic</td>\n",
       "      <td>Gimnàstic</td>\n",
       "      <td>FC Barcelona</td>\n",
       "      <td>35</td>\n",
       "      <td>0</td>\n",
       "      <td>2</td>\n",
       "      <td>NaN</td>\n",
       "      <td>Left foot</td>\n",
       "      <td>Won</td>\n",
       "    </tr>\n",
       "    <tr>\n",
       "      <th>647</th>\n",
       "      <td>dimanche 20 mai 2007</td>\n",
       "      <td>Liga</td>\n",
       "      <td>Atlético Madrid</td>\n",
       "      <td>Atlético Madrid</td>\n",
       "      <td>FC Barcelona</td>\n",
       "      <td>80</td>\n",
       "      <td>0</td>\n",
       "      <td>5</td>\n",
       "      <td>NaN</td>\n",
       "      <td>Left foot</td>\n",
       "      <td>Won</td>\n",
       "    </tr>\n",
       "    <tr>\n",
       "      <th>648</th>\n",
       "      <td>dimanche 20 mai 2007</td>\n",
       "      <td>Liga</td>\n",
       "      <td>Atlético Madrid</td>\n",
       "      <td>Atlético Madrid</td>\n",
       "      <td>FC Barcelona</td>\n",
       "      <td>39</td>\n",
       "      <td>0</td>\n",
       "      <td>1</td>\n",
       "      <td>NaN</td>\n",
       "      <td>Left foot</td>\n",
       "      <td>Won</td>\n",
       "    </tr>\n",
       "    <tr>\n",
       "      <th>649</th>\n",
       "      <td>samedi 17 mars 2007</td>\n",
       "      <td>Liga</td>\n",
       "      <td>Recreativo Huelva</td>\n",
       "      <td>Recreativo Huelva</td>\n",
       "      <td>FC Barcelona</td>\n",
       "      <td>86</td>\n",
       "      <td>0</td>\n",
       "      <td>4</td>\n",
       "      <td>NaN</td>\n",
       "      <td>Left foot</td>\n",
       "      <td>Won</td>\n",
       "    </tr>\n",
       "    <tr>\n",
       "      <th>650</th>\n",
       "      <td>dimanche 29 janvier 2006</td>\n",
       "      <td>Liga</td>\n",
       "      <td>Real Mallorca</td>\n",
       "      <td>Real Mallorca</td>\n",
       "      <td>FC Barcelona</td>\n",
       "      <td>81</td>\n",
       "      <td>0</td>\n",
       "      <td>3</td>\n",
       "      <td>NaN</td>\n",
       "      <td>Left foot</td>\n",
       "      <td>Won</td>\n",
       "    </tr>\n",
       "  </tbody>\n",
       "</table>\n",
       "<p>651 rows × 11 columns</p>\n",
       "</div>"
      ],
      "text/plain": [
       "                           Date Competition Name          Home team  \\\n",
       "0        samedi 16 février 2019             Liga       FC Barcelona   \n",
       "1      dimanche 13 janvier 2019             Liga       FC Barcelona   \n",
       "2       samedi 22 décembre 2018             Liga       FC Barcelona   \n",
       "3        samedi 20 octobre 2018             Liga       FC Barcelona   \n",
       "4    dimanche 23 septembre 2018             Liga       FC Barcelona   \n",
       "..                          ...              ...                ...   \n",
       "646       dimanche 17 juin 2007             Liga          Gimnàstic   \n",
       "647        dimanche 20 mai 2007             Liga    Atlético Madrid   \n",
       "648        dimanche 20 mai 2007             Liga    Atlético Madrid   \n",
       "649         samedi 17 mars 2007             Liga  Recreativo Huelva   \n",
       "650    dimanche 29 janvier 2006             Liga      Real Mallorca   \n",
       "\n",
       "              Opponent        Away team Minute  \\\n",
       "0      Real Valladolid  Real Valladolid     43   \n",
       "1                Eibar            Eibar     53   \n",
       "2        Celta de Vigo    Celta de Vigo     45   \n",
       "3              Sevilla          Sevilla     12   \n",
       "4               Girona           Girona     19   \n",
       "..                 ...              ...    ...   \n",
       "646          Gimnàstic     FC Barcelona     35   \n",
       "647    Atlético Madrid     FC Barcelona     80   \n",
       "648    Atlético Madrid     FC Barcelona     39   \n",
       "649  Recreativo Huelva     FC Barcelona     86   \n",
       "650      Real Mallorca     FC Barcelona     81   \n",
       "\n",
       "     Score Home Team - When Messi Scored  Score Away Team - When Messi Scored  \\\n",
       "0                                      1                                    0   \n",
       "1                                      2                                    0   \n",
       "2                                      2                                    0   \n",
       "3                                      2                                    0   \n",
       "4                                      1                                    0   \n",
       "..                                   ...                                  ...   \n",
       "646                                    0                                    2   \n",
       "647                                    0                                    5   \n",
       "648                                    0                                    1   \n",
       "649                                    0                                    4   \n",
       "650                                    0                                    3   \n",
       "\n",
       "      Goal Type Goal Method Final Game Result  \n",
       "0       Penalty   Left foot               Won  \n",
       "1    Field goal   Left foot               Won  \n",
       "2    Field goal   Left foot               Won  \n",
       "3    Field goal   Left foot               Won  \n",
       "4    Field goal   Left foot              Draw  \n",
       "..          ...         ...               ...  \n",
       "646         NaN   Left foot               Won  \n",
       "647         NaN   Left foot               Won  \n",
       "648         NaN   Left foot               Won  \n",
       "649         NaN   Left foot               Won  \n",
       "650         NaN   Left foot               Won  \n",
       "\n",
       "[651 rows x 11 columns]"
      ]
     },
     "execution_count": 4,
     "metadata": {},
     "output_type": "execute_result"
    }
   ],
   "source": [
    "df_messi_goles"
   ]
  },
  {
   "cell_type": "code",
   "execution_count": 5,
   "id": "ebcfc83b",
   "metadata": {},
   "outputs": [
    {
     "data": {
      "text/plain": [
       "Liga                409\n",
       "Champions League    106\n",
       "Copa America          8\n",
       "World Cup             6\n",
       "Name: Competition Name, dtype: int64"
      ]
     },
     "execution_count": 5,
     "metadata": {},
     "output_type": "execute_result"
    }
   ],
   "source": [
    "df_messi_goles['Competition Name'].value_counts()"
   ]
  },
  {
   "cell_type": "code",
   "execution_count": 6,
   "id": "ccd69ffc",
   "metadata": {},
   "outputs": [
    {
     "data": {
      "text/plain": [
       "Liga                409\n",
       "Champions League    106\n",
       "Name: Competition Name, dtype: int64"
      ]
     },
     "execution_count": 6,
     "metadata": {},
     "output_type": "execute_result"
    }
   ],
   "source": [
    "df_messi_goles = df_messi_goles[df_messi_goles['Competition Name'] != 'Copa America']\n",
    "df_messi_goles = df_messi_goles[df_messi_goles['Competition Name'] != 'World Cup']\n",
    "df_messi_goles['Competition Name'].value_counts()"
   ]
  },
  {
   "cell_type": "code",
   "execution_count": 7,
   "id": "6cdc33a8",
   "metadata": {},
   "outputs": [],
   "source": [
    "df_messi_goles['Goals'] = 1"
   ]
  },
  {
   "cell_type": "code",
   "execution_count": 8,
   "id": "6b036aed",
   "metadata": {},
   "outputs": [],
   "source": [
    "df_messi_goles=df_messi_goles.groupby('Opponent').agg({'Goals':'count'})"
   ]
  },
  {
   "cell_type": "code",
   "execution_count": 9,
   "id": "ea213b0c",
   "metadata": {},
   "outputs": [],
   "source": [
    "df_messi_goles=df_messi_goles.reset_index()"
   ]
  },
  {
   "cell_type": "code",
   "execution_count": 10,
   "id": "45a34729",
   "metadata": {},
   "outputs": [
    {
     "data": {
      "text/plain": [
       "Index(['Opponent', 'Goals'], dtype='object')"
      ]
     },
     "execution_count": 10,
     "metadata": {},
     "output_type": "execute_result"
    }
   ],
   "source": [
    "df_messi_goles.columns"
   ]
  },
  {
   "cell_type": "code",
   "execution_count": 11,
   "id": "1bd5c919",
   "metadata": {},
   "outputs": [
    {
     "data": {
      "text/html": [
       "<div>\n",
       "<style scoped>\n",
       "    .dataframe tbody tr th:only-of-type {\n",
       "        vertical-align: middle;\n",
       "    }\n",
       "\n",
       "    .dataframe tbody tr th {\n",
       "        vertical-align: top;\n",
       "    }\n",
       "\n",
       "    .dataframe thead th {\n",
       "        text-align: right;\n",
       "    }\n",
       "</style>\n",
       "<table border=\"1\" class=\"dataframe\">\n",
       "  <thead>\n",
       "    <tr style=\"text-align: right;\">\n",
       "      <th></th>\n",
       "      <th>Opponent</th>\n",
       "      <th>Goals</th>\n",
       "    </tr>\n",
       "  </thead>\n",
       "  <tbody>\n",
       "    <tr>\n",
       "      <th>78</th>\n",
       "      <td>Sevilla</td>\n",
       "      <td>36</td>\n",
       "    </tr>\n",
       "    <tr>\n",
       "      <th>12</th>\n",
       "      <td>Atlético Madrid</td>\n",
       "      <td>28</td>\n",
       "    </tr>\n",
       "    <tr>\n",
       "      <th>90</th>\n",
       "      <td>Valencia</td>\n",
       "      <td>27</td>\n",
       "    </tr>\n",
       "    <tr>\n",
       "      <th>71</th>\n",
       "      <td>Real Madrid</td>\n",
       "      <td>26</td>\n",
       "    </tr>\n",
       "    <tr>\n",
       "      <th>10</th>\n",
       "      <td>Athletic de Bilbao</td>\n",
       "      <td>24</td>\n",
       "    </tr>\n",
       "    <tr>\n",
       "      <th>34</th>\n",
       "      <td>Espanyol</td>\n",
       "      <td>23</td>\n",
       "    </tr>\n",
       "    <tr>\n",
       "      <th>62</th>\n",
       "      <td>Osasuna</td>\n",
       "      <td>23</td>\n",
       "    </tr>\n",
       "    <tr>\n",
       "      <th>29</th>\n",
       "      <td>Deportivo La Coruña</td>\n",
       "      <td>20</td>\n",
       "    </tr>\n",
       "    <tr>\n",
       "      <th>54</th>\n",
       "      <td>Levante</td>\n",
       "      <td>20</td>\n",
       "    </tr>\n",
       "    <tr>\n",
       "      <th>70</th>\n",
       "      <td>Real Betis</td>\n",
       "      <td>20</td>\n",
       "    </tr>\n",
       "    <tr>\n",
       "      <th>41</th>\n",
       "      <td>Getafe</td>\n",
       "      <td>19</td>\n",
       "    </tr>\n",
       "    <tr>\n",
       "      <th>69</th>\n",
       "      <td>Rayo Vallecano</td>\n",
       "      <td>17</td>\n",
       "    </tr>\n",
       "    <tr>\n",
       "      <th>73</th>\n",
       "      <td>Real Sociedad</td>\n",
       "      <td>15</td>\n",
       "    </tr>\n",
       "  </tbody>\n",
       "</table>\n",
       "</div>"
      ],
      "text/plain": [
       "               Opponent  Goals\n",
       "78              Sevilla     36\n",
       "12      Atlético Madrid     28\n",
       "90             Valencia     27\n",
       "71          Real Madrid     26\n",
       "10   Athletic de Bilbao     24\n",
       "34             Espanyol     23\n",
       "62              Osasuna     23\n",
       "29  Deportivo La Coruña     20\n",
       "54              Levante     20\n",
       "70           Real Betis     20\n",
       "41               Getafe     19\n",
       "69       Rayo Vallecano     17\n",
       "73        Real Sociedad     15"
      ]
     },
     "execution_count": 11,
     "metadata": {},
     "output_type": "execute_result"
    }
   ],
   "source": [
    "df_messi_goles = df_messi_goles[df_messi_goles['Goals'] >= 15].sort_values('Goals',ascending=False)\n",
    "df_messi_goles"
   ]
  },
  {
   "cell_type": "code",
   "execution_count": 14,
   "id": "05dcf38d",
   "metadata": {},
   "outputs": [
    {
     "data": {
      "image/png": "[encoded data removed]",
      "text/plain": [
       "<Figure size 2880x1800 with 1 Axes>"
      ]
     },
     "metadata": {
      "needs_background": "light"
     },
     "output_type": "display_data"
    }
   ],
   "source": [
    "norm = matplotlib.colors.Normalize(vmin=min(df_messi_goles.Goals), vmax=max(df_messi_goles.Goals))\n",
    "colors = [matplotlib.cm.Greens(norm(value)) for value in df_messi_goles.Goals]\n",
    "fig = plt.gcf()\n",
    "ax = fig.add_subplot()\n",
    "fig.set_size_inches(40, 25)\n",
    "squarify.plot(label=df_messi_goles.Opponent,sizes=df_messi_goles.Goals, color = colors, alpha=.6,linewidth=2,edgecolor=\"white\")\n",
    "plt.axis('off')\n",
    "plt.show()"
   ]
  },
  {
   "cell_type": "code",
   "execution_count": 13,
   "id": "92b5e7b2",
   "metadata": {},
   "outputs": [
    {
     "data": {
      "image/png": "[encoded data removed]",
      "text/plain": [
       "<Figure size 720x360 with 1 Axes>"
      ]
     },
     "metadata": {
      "needs_background": "light"
     },
     "output_type": "display_data"
    }
   ],
   "source": [
    "norm = matplotlib.colors.Normalize(vmin=min(df_messi_goles.Goals), vmax=max(df_messi_goles.Goals))\n",
    "colors = [matplotlib.cm.Greens(norm(value)) for value in df_messi_goles.Goals]\n",
    "fig = plt.gcf()\n",
    "ax = fig.add_subplot()\n",
    "fig.set_size_inches(10, 5)\n",
    "squarify.plot(label=df_messi_goles.Opponent,sizes=df_messi_goles.Goals, color = colors, alpha=.6,linewidth=2,edgecolor=\"white\")\n",
    "plt.axis('off')\n",
    "plt.show()"
   ]
  },
  {
   "cell_type": "code",
   "execution_count": null,
   "id": "0c799863",
   "metadata": {},
   "outputs": [],
   "source": []
  }
 ],
 "metadata": {
  "kernelspec": {
   "display_name": "Python 3",
   "language": "python",
   "name": "python3"
  },
  "language_info": {
   "codemirror_mode": {
    "name": "ipython",
    "version": 3
   },
   "file_extension": ".py",
   "mimetype": "text/x-python",
   "name": "python",
   "nbconvert_exporter": "python",
   "pygments_lexer": "ipython3",
   "version": "3.8.8"
  }
 },
 "nbformat": 4,
 "nbformat_minor": 5
}
